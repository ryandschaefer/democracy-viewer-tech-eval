{
 "cells": [
  {
   "cell_type": "code",
   "execution_count": 1,
   "metadata": {},
   "outputs": [],
   "source": [
    "import polars as pl\n",
    "import os\n",
    "import humanize\n",
    "import seaborn as sns\n",
    "import matplotlib.pyplot as plt"
   ]
  },
  {
   "cell_type": "code",
   "execution_count": 2,
   "metadata": {},
   "outputs": [
    {
     "data": {
      "text/plain": [
       "Schema([('sentence_id', String),\n",
       "        ('src_file_id', String),\n",
       "        ('speech_id', Int64),\n",
       "        ('debate_id', Int64),\n",
       "        ('speechdate', String),\n",
       "        ('debate', String),\n",
       "        ('text', String),\n",
       "        ('speaker', String),\n",
       "        ('speaker_house', String),\n",
       "        ('src_image', String),\n",
       "        ('new_speaker', String),\n",
       "        ('decade', Int64)])"
      ]
     },
     "execution_count": 2,
     "metadata": {},
     "output_type": "execute_result"
    }
   ],
   "source": [
    "# Load the large DataFrame\n",
    "lf = pl.scan_csv(\"../../datasets/hansard_c19_updated.csv\")\n",
    "\n",
    "lf.collect_schema()"
   ]
  },
  {
   "cell_type": "code",
   "execution_count": 3,
   "metadata": {},
   "outputs": [
    {
     "data": {
      "text/html": [
       "<div><style>\n",
       ".dataframe > thead > tr,\n",
       ".dataframe > tbody > tr {\n",
       "  text-align: right;\n",
       "  white-space: pre-wrap;\n",
       "}\n",
       "</style>\n",
       "<small>shape: (10_979_009, 2)</small><table border=\"1\" class=\"dataframe\"><thead><tr><th>text</th><th>new_speaker</th></tr><tr><td>str</td><td>str</td></tr></thead><tbody><tr><td>&quot;moved that Lord Walsingham be …</td><td>&quot;unknown&quot;</td></tr><tr><td>&quot;in seconding the motion, took …</td><td>&quot;john_scott_6733&quot;</td></tr><tr><td>&quot;—The question was put, and the…</td><td>&quot;john_scott_6733&quot;</td></tr><tr><td>&quot;then rose, and observed, that …</td><td>&quot;unknown&quot;</td></tr><tr><td>&quot;He had to return his thanks to…</td><td>&quot;unknown&quot;</td></tr><tr><td>&hellip;</td><td>&hellip;</td></tr><tr><td>&quot;Under the existing law, with a…</td><td>&quot;robert_reid_5702&quot;</td></tr><tr><td>&quot;This control, and the controls…</td><td>&quot;robert_reid_5702&quot;</td></tr><tr><td>&quot;A review is being held of the …</td><td>&quot;robert_reid_5702&quot;</td></tr><tr><td>&quot;asked Her Majesty&#x27;s Government…</td><td>&quot;unknown&quot;</td></tr><tr><td>&quot;My right honourable friend the…</td><td>&quot;richard_causton_5661&quot;</td></tr></tbody></table></div>"
      ],
      "text/plain": [
       "shape: (10_979_009, 2)\n",
       "┌─────────────────────────────────┬──────────────────────┐\n",
       "│ text                            ┆ new_speaker          │\n",
       "│ ---                             ┆ ---                  │\n",
       "│ str                             ┆ str                  │\n",
       "╞═════════════════════════════════╪══════════════════════╡\n",
       "│ moved that Lord Walsingham be … ┆ unknown              │\n",
       "│ in seconding the motion, took … ┆ john_scott_6733      │\n",
       "│ —The question was put, and the… ┆ john_scott_6733      │\n",
       "│ then rose, and observed, that … ┆ unknown              │\n",
       "│ He had to return his thanks to… ┆ unknown              │\n",
       "│ …                               ┆ …                    │\n",
       "│ Under the existing law, with a… ┆ robert_reid_5702     │\n",
       "│ This control, and the controls… ┆ robert_reid_5702     │\n",
       "│ A review is being held of the … ┆ robert_reid_5702     │\n",
       "│ asked Her Majesty's Government… ┆ unknown              │\n",
       "│ My right honourable friend the… ┆ richard_causton_5661 │\n",
       "└─────────────────────────────────┴──────────────────────┘"
      ]
     },
     "execution_count": 3,
     "metadata": {},
     "output_type": "execute_result"
    }
   ],
   "source": [
    "# Select only relevant columns\n",
    "df = (\n",
    "    lf\n",
    "        .select([\"text\", \"new_speaker\"])\n",
    "        .collect()\n",
    ")\n",
    "\n",
    "df"
   ]
  },
  {
   "cell_type": "code",
   "execution_count": 4,
   "metadata": {},
   "outputs": [
    {
     "data": {
      "text/html": [
       "<div>\n",
       "<style scoped>\n",
       "    .dataframe tbody tr th:only-of-type {\n",
       "        vertical-align: middle;\n",
       "    }\n",
       "\n",
       "    .dataframe tbody tr th {\n",
       "        vertical-align: top;\n",
       "    }\n",
       "\n",
       "    .dataframe thead th {\n",
       "        text-align: right;\n",
       "    }\n",
       "</style>\n",
       "<table border=\"1\" class=\"dataframe\">\n",
       "  <thead>\n",
       "    <tr style=\"text-align: right;\">\n",
       "      <th></th>\n",
       "      <th>text</th>\n",
       "      <th>new_speaker</th>\n",
       "      <th>length</th>\n",
       "    </tr>\n",
       "  </thead>\n",
       "  <tbody>\n",
       "    <tr>\n",
       "      <th>0</th>\n",
       "      <td>moved that Lord Walsingham be appointed chairm...</td>\n",
       "      <td>unknown</td>\n",
       "      <td>16</td>\n",
       "    </tr>\n",
       "    <tr>\n",
       "      <th>1</th>\n",
       "      <td>in seconding the motion, took an opportunity t...</td>\n",
       "      <td>john_scott_6733</td>\n",
       "      <td>46</td>\n",
       "    </tr>\n",
       "    <tr>\n",
       "      <th>2</th>\n",
       "      <td>—The question was put, and the appointment for...</td>\n",
       "      <td>john_scott_6733</td>\n",
       "      <td>14</td>\n",
       "    </tr>\n",
       "    <tr>\n",
       "      <th>3</th>\n",
       "      <td>then rose, and observed, that he was not in th...</td>\n",
       "      <td>unknown</td>\n",
       "      <td>52</td>\n",
       "    </tr>\n",
       "    <tr>\n",
       "      <th>4</th>\n",
       "      <td>He had to return his thanks to the House for t...</td>\n",
       "      <td>unknown</td>\n",
       "      <td>77</td>\n",
       "    </tr>\n",
       "    <tr>\n",
       "      <th>...</th>\n",
       "      <td>...</td>\n",
       "      <td>...</td>\n",
       "      <td>...</td>\n",
       "    </tr>\n",
       "    <tr>\n",
       "      <th>10979004</th>\n",
       "      <td>Under the existing law, with a few well-define...</td>\n",
       "      <td>robert_reid_5702</td>\n",
       "      <td>33</td>\n",
       "    </tr>\n",
       "    <tr>\n",
       "      <th>10979005</th>\n",
       "      <td>This control, and the controls on sale and tra...</td>\n",
       "      <td>robert_reid_5702</td>\n",
       "      <td>13</td>\n",
       "    </tr>\n",
       "    <tr>\n",
       "      <th>10979006</th>\n",
       "      <td>A review is being held of the law relating to ...</td>\n",
       "      <td>robert_reid_5702</td>\n",
       "      <td>14</td>\n",
       "    </tr>\n",
       "    <tr>\n",
       "      <th>10979007</th>\n",
       "      <td>asked Her Majesty's Government:</td>\n",
       "      <td>unknown</td>\n",
       "      <td>4</td>\n",
       "    </tr>\n",
       "    <tr>\n",
       "      <th>10979008</th>\n",
       "      <td>My right honourable friend the Minister of Avi...</td>\n",
       "      <td>richard_causton_5661</td>\n",
       "      <td>42</td>\n",
       "    </tr>\n",
       "  </tbody>\n",
       "</table>\n",
       "<p>10979009 rows × 3 columns</p>\n",
       "</div>"
      ],
      "text/plain": [
       "                                                       text  \\\n",
       "0         moved that Lord Walsingham be appointed chairm...   \n",
       "1         in seconding the motion, took an opportunity t...   \n",
       "2         —The question was put, and the appointment for...   \n",
       "3         then rose, and observed, that he was not in th...   \n",
       "4         He had to return his thanks to the House for t...   \n",
       "...                                                     ...   \n",
       "10979004  Under the existing law, with a few well-define...   \n",
       "10979005  This control, and the controls on sale and tra...   \n",
       "10979006  A review is being held of the law relating to ...   \n",
       "10979007                    asked Her Majesty's Government:   \n",
       "10979008  My right honourable friend the Minister of Avi...   \n",
       "\n",
       "                   new_speaker  length  \n",
       "0                      unknown      16  \n",
       "1              john_scott_6733      46  \n",
       "2              john_scott_6733      14  \n",
       "3                      unknown      52  \n",
       "4                      unknown      77  \n",
       "...                        ...     ...  \n",
       "10979004      robert_reid_5702      33  \n",
       "10979005      robert_reid_5702      13  \n",
       "10979006      robert_reid_5702      14  \n",
       "10979007               unknown       4  \n",
       "10979008  richard_causton_5661      42  \n",
       "\n",
       "[10979009 rows x 3 columns]"
      ]
     },
     "execution_count": 4,
     "metadata": {},
     "output_type": "execute_result"
    }
   ],
   "source": [
    "df_plot = df.with_columns(length = pl.col(\"text\").str.count_matches(\"[^ ]+\")).to_pandas()\n",
    "df_plot"
   ]
  },
  {
   "cell_type": "code",
   "execution_count": 5,
   "metadata": {},
   "outputs": [
    {
     "data": {
      "image/png": "[encoded data removed]",
      "text/plain": [
       "<Figure size 640x480 with 1 Axes>"
      ]
     },
     "metadata": {},
     "output_type": "display_data"
    }
   ],
   "source": [
    "sns.histplot(\n",
    "    df_plot, \n",
    "    x = \"length\"\n",
    ")\n",
    "\n",
    "plt.xlim((0, 100))\n",
    "plt.show()"
   ]
  },
  {
   "cell_type": "code",
   "execution_count": 6,
   "metadata": {},
   "outputs": [
    {
     "data": {
      "text/plain": [
       "170.0066604372034"
      ]
     },
     "execution_count": 6,
     "metadata": {},
     "output_type": "execute_result"
    }
   ],
   "source": [
    "# Determine approximate size of each row in bytes\n",
    "outfile = \"full_dataset.csv\"\n",
    "df.write_csv(outfile)\n",
    "row_size = os.path.getsize(outfile) / len(df)\n",
    "os.remove(outfile)  # Clean up the sample file\n",
    "\n",
    "row_size"
   ]
  },
  {
   "cell_type": "code",
   "execution_count": 8,
   "metadata": {},
   "outputs": [],
   "source": [
    "filesizes = [\n",
    "    \"10 kb\",\n",
    "    \"100 kb\",\n",
    "    \"500 kb\",\n",
    "    \"1 mb\",\n",
    "    \"10 mb\",\n",
    "    \"100 mb\",\n",
    "    \"250 mb\",\n",
    "    \"500 mb\",\n",
    "    \"750 mb\",\n",
    "    \"1 gb\",\n",
    "]"
   ]
  },
  {
   "cell_type": "code",
   "execution_count": 9,
   "metadata": {},
   "outputs": [
    {
     "name": "stdout",
     "output_type": "stream",
     "text": [
      "10 kb: 60 rows with actual size 12.7 kb = 23.8% error\n",
      "100 kb: 604 rows with actual size 118.1 kb = 14.9% error\n",
      "500 kb: 3,023 rows with actual size 582.0 kb = 13.2% error\n",
      "1 mb: 6,216 rows with actual size 1.2 mb = 9.3% error\n",
      "10 mb: 62,161 rows with actual size 11.5 mb = 8.4% error\n",
      "100 mb: 621,613 rows with actual size 114.4 mb = 8.2% error\n",
      "250 mb: 1,554,033 rows with actual size 284.2 mb = 7.6% error\n",
      "500 mb: 3,108,066 rows with actual size 570.6 mb = 8.0% error\n",
      "750 mb: 4,662,099 rows with actual size 855.8 mb = 8.0% error\n",
      "1 gb: 6,390,184 rows with actual size 1.2 gb = 6.7% error\n"
     ]
    }
   ],
   "source": [
    "# Create subsets of each file size\n",
    "for size_str in filesizes:\n",
    "    units = size_str[-2:]\n",
    "    num = int(size_str.replace(units, \"\").strip())\n",
    "    if units == \"kb\":\n",
    "        size_bytes = num * 1028\n",
    "    elif units == \"mb\":\n",
    "        size_bytes = num * 1028 * 1028\n",
    "    elif units == \"gb\":\n",
    "        size_bytes = num * 1028 * 1028 * 1028\n",
    "    else:\n",
    "        print(f\"Unrecognized units: { units }\")\n",
    "        continue\n",
    "    \n",
    "    nrows = int(size_bytes / row_size)\n",
    "    df_subset = df.head(nrows)\n",
    "    filename = f\"subsets/subset_{ units }_{ num }.csv\"\n",
    "    df_subset.write_csv(filename)\n",
    "    \n",
    "    actual_size = os.path.getsize(filename)\n",
    "    error = round(100 * ((actual_size - size_bytes) / size_bytes), 1)\n",
    "    print(f\"{ size_str }: { humanize.intcomma(nrows) } rows with actual size { humanize.naturalsize(actual_size ).lower() } = { error }% error\")"
   ]
  },
  {
   "cell_type": "code",
   "execution_count": null,
   "metadata": {},
   "outputs": [],
   "source": []
  }
 ],
 "metadata": {
  "kernelspec": {
   "display_name": "base",
   "language": "python",
   "name": "python3"
  },
  "language_info": {
   "codemirror_mode": {
    "name": "ipython",
    "version": 3
   },
   "file_extension": ".py",
   "mimetype": "text/x-python",
   "name": "python",
   "nbconvert_exporter": "python",
   "pygments_lexer": "ipython3",
   "version": "3.11.4"
  }
 },
 "nbformat": 4,
 "nbformat_minor": 2
}
