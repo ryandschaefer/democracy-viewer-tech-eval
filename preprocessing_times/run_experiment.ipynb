{
 "cells": [
  {
   "cell_type": "code",
   "execution_count": null,
   "metadata": {},
   "outputs": [],
   "source": [
    "import sqlalchemy as sql\n",
    "import pymysql\n",
    "import datetime as dt\n",
    "import polars as pl\n",
    "import boto3\n",
    "from boto3.s3.transfer import TransferConfig\n",
    "import os\n",
    "from dotenv import load_dotenv\n",
    "\n",
    "load_dotenv()"
   ]
  },
  {
   "cell_type": "code",
   "execution_count": 77,
   "metadata": {},
   "outputs": [
    {
     "data": {
      "text/html": [
       "<div><style>\n",
       ".dataframe > thead > tr,\n",
       ".dataframe > tbody > tr {\n",
       "  text-align: right;\n",
       "  white-space: pre-wrap;\n",
       "}\n",
       "</style>\n",
       "<small>shape: (6_390_184, 2)</small><table border=\"1\" class=\"dataframe\"><thead><tr><th>text</th><th>new_speaker</th></tr><tr><td>str</td><td>str</td></tr></thead><tbody><tr><td>&quot;moved that Lord Walsingham be …</td><td>&quot;unknown&quot;</td></tr><tr><td>&quot;in seconding the motion, took …</td><td>&quot;john_scott_6733&quot;</td></tr><tr><td>&quot;—The question was put, and the…</td><td>&quot;john_scott_6733&quot;</td></tr><tr><td>&quot;then rose, and observed, that …</td><td>&quot;unknown&quot;</td></tr><tr><td>&quot;He had to return his thanks to…</td><td>&quot;unknown&quot;</td></tr><tr><td>&hellip;</td><td>&hellip;</td></tr><tr><td>&quot;The best proof he could give t…</td><td>&quot;william_portman_4287&quot;</td></tr><tr><td>&quot;Mr. Grierson told the Committe…</td><td>&quot;william_portman_4287&quot;</td></tr><tr><td>&quot;The proposed change in the law…</td><td>&quot;william_portman_4287&quot;</td></tr><tr><td>&quot;On the contrary, it would impo…</td><td>&quot;william_portman_4287&quot;</td></tr><tr><td>&quot;He could assure the House that…</td><td>&quot;william_portman_4287&quot;</td></tr></tbody></table></div>"
      ],
      "text/plain": [
       "shape: (6_390_184, 2)\n",
       "┌─────────────────────────────────┬──────────────────────┐\n",
       "│ text                            ┆ new_speaker          │\n",
       "│ ---                             ┆ ---                  │\n",
       "│ str                             ┆ str                  │\n",
       "╞═════════════════════════════════╪══════════════════════╡\n",
       "│ moved that Lord Walsingham be … ┆ unknown              │\n",
       "│ in seconding the motion, took … ┆ john_scott_6733      │\n",
       "│ —The question was put, and the… ┆ john_scott_6733      │\n",
       "│ then rose, and observed, that … ┆ unknown              │\n",
       "│ He had to return his thanks to… ┆ unknown              │\n",
       "│ …                               ┆ …                    │\n",
       "│ The best proof he could give t… ┆ william_portman_4287 │\n",
       "│ Mr. Grierson told the Committe… ┆ william_portman_4287 │\n",
       "│ The proposed change in the law… ┆ william_portman_4287 │\n",
       "│ On the contrary, it would impo… ┆ william_portman_4287 │\n",
       "│ He could assure the House that… ┆ william_portman_4287 │\n",
       "└─────────────────────────────────┴──────────────────────┘"
      ]
     },
     "execution_count": 77,
     "metadata": {},
     "output_type": "execute_result"
    }
   ],
   "source": [
    "SUBSET_NAME = \"subset_gb_1\"\n",
    "\n",
    "df = pl.read_csv(f\"subsets/{ SUBSET_NAME }.csv\")\n",
    "\n",
    "df"
   ]
  },
  {
   "cell_type": "code",
   "execution_count": null,
   "metadata": {},
   "outputs": [],
   "source": [
    "host = \"democracy-viewer-dev.ct4cawowow64.us-east-2.rds.amazonaws.com\"\n",
    "database = \"democracy_viewer\"\n",
    "port = \"3306\"\n",
    "username = \"admin\"\n",
    "password = \"a4ceoABO14HpZpafuwWe\"\n",
    "\n",
    "# Connect to database\n",
    "conn_str = \"mysql+pymysql://{}:{}@{}:{}/{}\".format(\n",
    "    os.environ.get(\"DATABASE_USERNAME\"), os.environ.get(\"PASSWORD\"), os.environ.get(\"HOST\"), os.environ.get(\"PORT\"), os.environ.get(\"DATABASE\")\n",
    ")\n",
    "        \n",
    "engine = sql.create_engine(conn_str)\n",
    "meta = sql.MetaData()\n",
    "meta.reflect(engine)"
   ]
  },
  {
   "cell_type": "code",
   "execution_count": 79,
   "metadata": {},
   "outputs": [],
   "source": [
    "METADATA_TEMPLATE = {\n",
    "    \"metadata\": {\n",
    "        \"email\": \"rdschaefer@smu.edu\",\n",
    "        \"title\": \"test\",\n",
    "        \"description\": \"test\", \n",
    "        \"is_public\": False,\n",
    "        \"preprocessing_type\": \"lemma\", # or \"stem\" or \"none\"\n",
    "        \"embeddings\": True,\n",
    "        \"embed_col\": \"new_speaker\", \n",
    "        \"language\": \"English\",\n",
    "        \"num_records\": len(df)\n",
    "    },\n",
    "    \"tags\": [\n",
    "\n",
    "    ],\n",
    "    \"text\": [\n",
    "        \"text\"\n",
    "    ],\n",
    "    \"embed\": [\n",
    "        \"new_speaker\"\n",
    "    ]\n",
    "}"
   ]
  },
  {
   "cell_type": "code",
   "execution_count": 80,
   "metadata": {},
   "outputs": [],
   "source": [
    "with engine.connect() as conn:\n",
    "    conn.execute((\n",
    "        sql.delete(meta.tables[\"dataset_metadata\"])\n",
    "            .where(meta.tables[\"dataset_metadata\"].c.table_name == SUBSET_NAME)\n",
    "    ))\n",
    "    conn.commit()\n",
    "    "
   ]
  },
  {
   "cell_type": "code",
   "execution_count": 81,
   "metadata": {},
   "outputs": [],
   "source": [
    "dataset_metadata = {\n",
    "    \"table_name\": SUBSET_NAME,\n",
    "    \"date_posted\": dt.date.today()\n",
    "}\n",
    "for key, value in METADATA_TEMPLATE[\"metadata\"].items():\n",
    "    if value != \"\":\n",
    "        dataset_metadata[key] = value\n",
    "query = (\n",
    "    sql.insert(meta.tables[\"dataset_metadata\"])\n",
    "        .values(dataset_metadata)\n",
    ")\n",
    "\n",
    "with engine.connect() as conn:\n",
    "    conn.execute(query)\n",
    "    conn.commit()"
   ]
  },
  {
   "cell_type": "code",
   "execution_count": 82,
   "metadata": {},
   "outputs": [],
   "source": [
    "tags = []\n",
    "for tag in METADATA_TEMPLATE[\"tags\"]:\n",
    "    query = (\n",
    "        sql.insert(meta.tables[\"tags\"])\n",
    "            .values({\n",
    "            \"table_name\": SUBSET_NAME,\n",
    "            \"tag_name\": tag\n",
    "        })\n",
    "    )\n",
    "    tags.append(query)\n",
    "\n",
    "\n",
    "with engine.connect() as conn:\n",
    "    for query in tags:\n",
    "        conn.execute(query)\n",
    "        conn.commit()"
   ]
  },
  {
   "cell_type": "code",
   "execution_count": 83,
   "metadata": {},
   "outputs": [],
   "source": [
    "all_cols = []\n",
    "for col in df.columns:\n",
    "    query = (\n",
    "        sql.insert(meta.tables[\"dataset_all_cols\"])\n",
    "            .values({\n",
    "                \"table_name\": SUBSET_NAME,\n",
    "                \"col\": col\n",
    "            })\n",
    "    )\n",
    "    all_cols.append(query)\n",
    "\n",
    "\n",
    "with engine.connect() as conn:\n",
    "    for query in all_cols:\n",
    "        conn.execute(query)\n",
    "    conn.commit()"
   ]
  },
  {
   "cell_type": "code",
   "execution_count": 84,
   "metadata": {},
   "outputs": [],
   "source": [
    "text_cols = []\n",
    "for col in METADATA_TEMPLATE[\"text\"]:\n",
    "    query = (\n",
    "        sql.insert(meta.tables[\"dataset_text_cols\"])\n",
    "            .values({\n",
    "                \"table_name\": SUBSET_NAME,\n",
    "                \"col\": col\n",
    "            })\n",
    "    )\n",
    "    text_cols.append(query)\n",
    "\n",
    "with engine.connect() as conn:\n",
    "    for query in text_cols:\n",
    "        conn.execute(query)\n",
    "    conn.commit()"
   ]
  },
  {
   "cell_type": "code",
   "execution_count": 85,
   "metadata": {},
   "outputs": [],
   "source": [
    "embed_cols = []\n",
    "for col in METADATA_TEMPLATE[\"embed\"]:\n",
    "    query = (\n",
    "        sql.insert(meta.tables[\"dataset_embed_cols\"])\n",
    "            .values({\n",
    "                \"table_name\": SUBSET_NAME,\n",
    "                \"col\": col\n",
    "            })\n",
    "    )\n",
    "    embed_cols.append(query)\n",
    "\n",
    "with engine.connect() as conn:\n",
    "    for query in embed_cols:\n",
    "        conn.execute(query)\n",
    "    conn.commit()"
   ]
  },
  {
   "cell_type": "code",
   "execution_count": 86,
   "metadata": {},
   "outputs": [
    {
     "data": {
      "text/html": [
       "<div><style>\n",
       ".dataframe > thead > tr,\n",
       ".dataframe > tbody > tr {\n",
       "  text-align: right;\n",
       "  white-space: pre-wrap;\n",
       "}\n",
       "</style>\n",
       "<small>shape: (6_390_184, 3)</small><table border=\"1\" class=\"dataframe\"><thead><tr><th>record_id</th><th>text</th><th>new_speaker</th></tr><tr><td>u32</td><td>str</td><td>str</td></tr></thead><tbody><tr><td>0</td><td>&quot;moved that Lord Walsingham be …</td><td>&quot;unknown&quot;</td></tr><tr><td>1</td><td>&quot;in seconding the motion, took …</td><td>&quot;john_scott_6733&quot;</td></tr><tr><td>2</td><td>&quot;—The question was put, and the…</td><td>&quot;john_scott_6733&quot;</td></tr><tr><td>3</td><td>&quot;then rose, and observed, that …</td><td>&quot;unknown&quot;</td></tr><tr><td>4</td><td>&quot;He had to return his thanks to…</td><td>&quot;unknown&quot;</td></tr><tr><td>&hellip;</td><td>&hellip;</td><td>&hellip;</td></tr><tr><td>6390179</td><td>&quot;The best proof he could give t…</td><td>&quot;william_portman_4287&quot;</td></tr><tr><td>6390180</td><td>&quot;Mr. Grierson told the Committe…</td><td>&quot;william_portman_4287&quot;</td></tr><tr><td>6390181</td><td>&quot;The proposed change in the law…</td><td>&quot;william_portman_4287&quot;</td></tr><tr><td>6390182</td><td>&quot;On the contrary, it would impo…</td><td>&quot;william_portman_4287&quot;</td></tr><tr><td>6390183</td><td>&quot;He could assure the House that…</td><td>&quot;william_portman_4287&quot;</td></tr></tbody></table></div>"
      ],
      "text/plain": [
       "shape: (6_390_184, 3)\n",
       "┌───────────┬─────────────────────────────────┬──────────────────────┐\n",
       "│ record_id ┆ text                            ┆ new_speaker          │\n",
       "│ ---       ┆ ---                             ┆ ---                  │\n",
       "│ u32       ┆ str                             ┆ str                  │\n",
       "╞═══════════╪═════════════════════════════════╪══════════════════════╡\n",
       "│ 0         ┆ moved that Lord Walsingham be … ┆ unknown              │\n",
       "│ 1         ┆ in seconding the motion, took … ┆ john_scott_6733      │\n",
       "│ 2         ┆ —The question was put, and the… ┆ john_scott_6733      │\n",
       "│ 3         ┆ then rose, and observed, that … ┆ unknown              │\n",
       "│ 4         ┆ He had to return his thanks to… ┆ unknown              │\n",
       "│ …         ┆ …                               ┆ …                    │\n",
       "│ 6390179   ┆ The best proof he could give t… ┆ william_portman_4287 │\n",
       "│ 6390180   ┆ Mr. Grierson told the Committe… ┆ william_portman_4287 │\n",
       "│ 6390181   ┆ The proposed change in the law… ┆ william_portman_4287 │\n",
       "│ 6390182   ┆ On the contrary, it would impo… ┆ william_portman_4287 │\n",
       "│ 6390183   ┆ He could assure the House that… ┆ william_portman_4287 │\n",
       "└───────────┴─────────────────────────────────┴──────────────────────┘"
      ]
     },
     "execution_count": 86,
     "metadata": {},
     "output_type": "execute_result"
    }
   ],
   "source": [
    "df = df.with_row_index(\"record_id\")\n",
    "df.write_parquet(f\"subsets/{ SUBSET_NAME }.parquet\", use_pyarrow=True)\n",
    "\n",
    "df"
   ]
  },
  {
   "cell_type": "code",
   "execution_count": null,
   "metadata": {},
   "outputs": [],
   "source": [
    "s3_client = boto3.client(\n",
    "    \"s3\",\n",
    "    aws_access_key_id = os.environ.get(\"S3_KEY\"),\n",
    "    aws_secret_access_key = os.environ.get(\"S3_SECRET\"),\n",
    "    region_name = os.environ.get(\"S3_REGION\")\n",
    ")"
   ]
  },
  {
   "cell_type": "code",
   "execution_count": null,
   "metadata": {},
   "outputs": [],
   "source": [
    "config = TransferConfig(\n",
    "    multipart_threshold=1024 * 500,  # 100MB\n",
    "    max_concurrency=10,\n",
    "    multipart_chunksize=1024 * 500,  # 100MB\n",
    "    use_threads=True\n",
    ")\n",
    "\n",
    "s3_client.upload_file(\n",
    "    f\"subsets/{ SUBSET_NAME }.parquet\",\n",
    "    os.environ.get(\"S3_BUCKET\"),\n",
    "    f\"tables/datasets_{ SUBSET_NAME }/{ SUBSET_NAME }.parquet\",\n",
    "    Config = config\n",
    ")"
   ]
  },
  {
   "cell_type": "code",
   "execution_count": 89,
   "metadata": {},
   "outputs": [
    {
     "data": {
      "text/plain": [
       "{'ResponseMetadata': {'RequestId': 'ddaf5e4b-6900-4d6d-a2d2-dc59669f5449',\n",
       "  'HTTPStatusCode': 200,\n",
       "  'HTTPHeaders': {'date': 'Wed, 13 Nov 2024 04:51:31 GMT',\n",
       "   'content-type': 'application/json',\n",
       "   'content-length': '161',\n",
       "   'connection': 'keep-alive',\n",
       "   'x-amzn-requestid': 'ddaf5e4b-6900-4d6d-a2d2-dc59669f5449',\n",
       "   'access-control-allow-origin': '*',\n",
       "   'x-amz-apigw-id': 'BKx9IF_rCYcEZdg=',\n",
       "   'access-control-expose-headers': 'X-amzn-errortype,X-amzn-requestid,X-amzn-errormessage,X-amzn-trace-id,X-amz-apigw-id,date',\n",
       "   'x-amzn-trace-id': 'Root=1-67343053-1d5218c922eba3aa423fab59'},\n",
       "  'RetryAttempts': 0},\n",
       " 'jobArn': 'arn:aws:batch:us-east-2:399426333101:job/a6435516-d465-4e40-9b0e-3efef8d70685',\n",
       " 'jobName': 'subset_gb_1',\n",
       " 'jobId': 'a6435516-d465-4e40-9b0e-3efef8d70685'}"
      ]
     },
     "execution_count": 89,
     "metadata": {},
     "output_type": "execute_result"
    }
   ],
   "source": [
    "BATCH_QUEUE = \"democracy-viewer-processing-queue-large\"\n",
    "BATCH_DEF = \"democracy-viewer-processing-large-def\"\n",
    "\n",
    "# Initialize the AWS Batch client\n",
    "batch_client = boto3.client('batch')\n",
    "\n",
    "# Define the job submission command\n",
    "response = batch_client.submit_job(\n",
    "    jobName=SUBSET_NAME,\n",
    "    jobQueue=BATCH_QUEUE,\n",
    "    jobDefinition=BATCH_DEF,\n",
    "    parameters={\n",
    "        'table_name': SUBSET_NAME,\n",
    "        'num_threads': \"15\"\n",
    "    }\n",
    ")\n",
    "\n",
    "response"
   ]
  },
  {
   "cell_type": "code",
   "execution_count": 90,
   "metadata": {},
   "outputs": [
    {
     "name": "stdout",
     "output_type": "stream",
     "text": [
      "Initial size: 1159456082\n",
      "Compressed size: 403142581\n",
      "Record count: 6390184\n"
     ]
    }
   ],
   "source": [
    "print(\"Initial size:\", os.path.getsize(f\"subsets/{ SUBSET_NAME }.csv\"))\n",
    "print(\"Compressed size:\", os.path.getsize(f\"subsets/{ SUBSET_NAME }.parquet\"))\n",
    "print(\"Record count:\", len(df))"
   ]
  },
  {
   "cell_type": "code",
   "execution_count": null,
   "metadata": {},
   "outputs": [],
   "source": []
  }
 ],
 "metadata": {
  "kernelspec": {
   "display_name": "base",
   "language": "python",
   "name": "python3"
  },
  "language_info": {
   "codemirror_mode": {
    "name": "ipython",
    "version": 3
   },
   "file_extension": ".py",
   "mimetype": "text/x-python",
   "name": "python",
   "nbconvert_exporter": "python",
   "pygments_lexer": "ipython3",
   "version": "3.11.4"
  }
 },
 "nbformat": 4,
 "nbformat_minor": 2
}
